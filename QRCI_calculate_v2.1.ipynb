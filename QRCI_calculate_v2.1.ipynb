{
 "cells": [
  {
   "cell_type": "code",
   "execution_count": 1,
   "id": "cae7cab9-7bb7-411d-931a-d1ba3f287b32",
   "metadata": {},
   "outputs": [
    {
     "name": "stdout",
     "output_type": "stream",
     "text": [
      "3.13.2 | packaged by conda-forge | (main, Feb 17 2025, 14:10:22) [GCC 13.3.0]\n",
      "2025.09.1\n"
     ]
    }
   ],
   "source": [
    "import sys\n",
    "import pandas as pd\n",
    "import numpy as np\n",
    "from rdkit import rdBase, Chem, DataStructs\n",
    "from rdkit.Chem import AllChem, Draw, Descriptors, PandasTools, rdMolDescriptors, QED\n",
    "from rdkit.Chem.SpacialScore import SPS\n",
    "from QRCI.QRCI import QRCICalculator, get_QRCIproperties\n",
    "from QRCI.RCI import RCICalculator\n",
    "\n",
    "PandasTools.RenderImagesInAllDataFrames(True)\n",
    "from rdkit.Chem.Draw import IPythonConsole\n",
    "\n",
    "print(sys.version)\n",
    "print(rdBase.rdkitVersion)"
   ]
  },
  {
   "cell_type": "code",
   "execution_count": 2,
   "id": "8168252d-41ee-432e-8172-6a3053eeb1c4",
   "metadata": {},
   "outputs": [
    {
     "data": {
      "image/png": "[encoded data removed]",
      "text/plain": [
       "<rdkit.Chem.rdchem.Mol at 0x7631c54c1b60>"
      ]
     },
     "execution_count": 2,
     "metadata": {},
     "output_type": "execute_result"
    }
   ],
   "source": [
    "mol = Chem.MolFromSmiles('C1=CCOCc2cc(ccc2OCCN2CCCC2)Nc2nccc(n2)-c2cccc(c2)COC1')\n",
    "mol"
   ]
  },
  {
   "cell_type": "code",
   "execution_count": 3,
   "id": "8b850426-e185-4a17-966b-230f438f7ba3",
   "metadata": {},
   "outputs": [
    {
     "name": "stdout",
     "output_type": "stream",
     "text": [
      "RCI: 1.28\n"
     ]
    }
   ],
   "source": [
    "rci_calculator = RCICalculator()\n",
    "rci_value = rci_calculator(mol)\n",
    "print(f\"RCI: {rci_value:.2f}\")"
   ]
  },
  {
   "cell_type": "code",
   "execution_count": 4,
   "id": "f6b634d7-4cb6-4bba-b804-e22e4c6c5630",
   "metadata": {},
   "outputs": [
    {
     "name": "stdout",
     "output_type": "stream",
     "text": [
      "QRCI: 4.0330\n",
      "QRCIproperties(nAromHetero=1, nAromCarbo=2, nAliHetero=2, nAliCarbo=0, nSatHetero=1, nSatCarbo=0, nMacrocycles=1, TRS=41, nRingAtom=32, nFusedRing=4, SF=1.0857142857142856)\n"
     ]
    }
   ],
   "source": [
    "qrci_calculator = QRCICalculator(weights=\"mean\")\n",
    "qrci_score = qrci_calculator(mol)\n",
    "qrci_props = get_QRCIproperties(mol)\n",
    "print(f\"QRCI: {qrci_score:.4f}\")\n",
    "print(qrci_props)"
   ]
  },
  {
   "cell_type": "code",
   "execution_count": null,
   "id": "a079a8dc-d52b-4ae6-9861-5f4186bcdaa5",
   "metadata": {},
   "outputs": [],
   "source": []
  }
 ],
 "metadata": {
  "kernelspec": {
   "display_name": "RDKit313",
   "language": "python",
   "name": "rdkit313"
  },
  "language_info": {
   "codemirror_mode": {
    "name": "ipython",
    "version": 3
   },
   "file_extension": ".py",
   "mimetype": "text/x-python",
   "name": "python",
   "nbconvert_exporter": "python",
   "pygments_lexer": "ipython3",
   "version": "3.13.2"
  }
 },
 "nbformat": 4,
 "nbformat_minor": 5
}
